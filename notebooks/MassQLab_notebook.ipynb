{
 "cells": [
  {
   "cell_type": "code",
   "execution_count": 2,
   "id": "2aa01c40-4ec4-4b7b-8fb1-322416a31774",
   "metadata": {},
   "outputs": [],
   "source": [
    "# Notebook for manual MassQLab processing\n",
    "\n",
    "import os\n",
    "import sys\n",
    "\n",
    "src_path = os.path.abspath(os.path.join(os.getcwd(), '..', 'src'))\n",
    "if src_path not in sys.path:\n",
    "    sys.path.append(src_path)\n",
    "\n",
    "# import importlib\n",
    "# import MassQLab_workflow\n",
    "# importlib.reload(MassQLab_workflow)\n",
    "\n",
    "from MassQLab_workflow import *"
   ]
  },
  {
   "cell_type": "code",
   "execution_count": 3,
   "id": "e0d035ce-5f37-4480-8a72-35c33a597cda",
   "metadata": {},
   "outputs": [],
   "source": [
    "# Option 1: Manually define configuration\n",
    "\n",
    "# data_directory=f\"C:/Users/johnsondyj/Documents/Projects/DylanJohnson/data_for_MassQLab/mass_spec_data/small\"\n",
    "# data_directory=f\"C:/Users/johnsondyj/Documents/Projects/DylanJohnson/data_for_MassQLab/mass_spec_data/sys_suitability_10202023\"\n",
    "data_directory=f\"C:/Users/johnsondyj/Documents/Projects/DylanJohnson/data_for_MassQLab/mass_spec_data/kirsten\"\n",
    "\n",
    "\n",
    "queryfile=f\"C:/Users/johnsondyj/Documents/Projects/DylanJohnson/MassQLab/MassQL_Queries.json\"\n",
    "\n",
    "cache_setting=True # True to create/use feather files. False to skip cached feather files and not create. \n",
    "\n",
    "# Most likely don't touch these\n",
    "metadata_file=None # obsolete\n",
    "metadata_filename_column=None # obsolete\n",
    "metadata_group_columns=None # obsolete\n",
    "kegg_path=None # obsolete\n",
    "convert_raw=False # True to convert raw to mzml. requires msconvert.exe\n",
    "msconvertexe=None # path to msconvert.exe\n",
    "datasaver=False # obsolete\n",
    "analysis=True # not applicable in this notebook\n",
    "\n"
   ]
  },
  {
   "cell_type": "code",
   "execution_count": null,
   "id": "f2e2dabe-c6fc-49cc-8cae-9462c83bce43",
   "metadata": {},
   "outputs": [],
   "source": [
    "# Option 2: Load configuration data from massqlab_config.json (running this will override option 1 above)\n",
    "\n",
    "data_directory, queryfile, metadata_file, metadata_filename_column, metadata_group_columns, kegg_path, convert_raw, msconvertexe, cache_setting, datasaver, analysis = configure_MassQLab()"
   ]
  },
  {
   "cell_type": "code",
   "execution_count": 4,
   "id": "54865924-6374-4acb-afa8-6e4f4af2f024",
   "metadata": {},
   "outputs": [
    {
     "name": "stdout",
     "output_type": "stream",
     "text": [
      "\n",
      "Run Start\n",
      "\n",
      "Created 2 MassQL Queries from C:/Users/johnsondyj/Documents/Projects/DylanJohnson/MassQLab/MassQL_Queries.json\n",
      "Not converting raw files (if any)\n",
      "5 mzML files found in C:/Users/johnsondyj/Documents/Projects/DylanJohnson/data_for_MassQLab/mass_spec_data/kirsten\n",
      "\n",
      "Applying 2 queries to 5 files\n",
      "Processing file 1: 23NIH013_p_ID_01.mzML\n",
      "Processing file 2: 23NIH013_p_ID_02.mzML\n",
      "Processing file 3: 23NIH013_p_ID_03.mzML\n",
      "Processing file 4: 23NIH013_p_ID_04.mzML\n",
      "Processing file 5: 23NIH013_p_blank_01.mzML\n",
      "Created raw_df_ms1 and exported as csv.\n",
      "Created raw_df_ms2 and exported as csv."
     ]
    }
   ],
   "source": [
    "# Load queries and apply to files in data_directory.\n",
    "# Creates ms1_raw_df.csv and ms2_raw_df.csv\n",
    "\n",
    "raw_df_ms1, raw_df_ms2, timestr, ms1_query_df, ms2_query_df = core_workflow(data_directory, queryfile, datasaver, convert_raw, msconvertexe)"
   ]
  },
  {
   "cell_type": "code",
   "execution_count": 5,
   "id": "103581c4-8c48-43f1-8ba5-371dfd3653aa",
   "metadata": {},
   "outputs": [
    {
     "name": "stdout",
     "output_type": "stream",
     "text": [
      "\n",
      "Created ms1_analysis_df and exported as CSV.\n",
      "Created ms1_RT_analysis_df and exported as csv.\n",
      "Created ms1_summary_traces.\n",
      "Created ms1_summary_traces_inverse.\n",
      "Created ms1_summary_areas.\n",
      "Created ms1_summary_areas_inverse.\n",
      "Created ms1_reports."
     ]
    }
   ],
   "source": [
    "# Processes ms1_raw_df. Creates ms1_analysis_df and visuals/tables.\n",
    "\n",
    "if not raw_df_ms1.empty:\n",
    "    process_ms1(raw_df_ms1, ms1_query_df, data_directory, timestr)"
   ]
  },
  {
   "cell_type": "code",
   "execution_count": 6,
   "id": "08ad1df4-fc9a-4648-9c36-a5747f367770",
   "metadata": {},
   "outputs": [
    {
     "name": "stdout",
     "output_type": "stream",
     "text": [
      "\n",
      "Created ms2_analysis_df and exported as csv.\n",
      "Created ms2 plots.\n",
      "Created ms2 cluster plot.\n",
      "Created ms2 cluster grouped.\n",
      "Created ms2_summary_plots.\n",
      "Created ms2_reports."
     ]
    }
   ],
   "source": [
    "# Processes ms2_raw_df. Creates ms2_analysis_df and visuals/tables.\n",
    "\n",
    "if not raw_df_ms2.empty:\n",
    "    process_ms2(raw_df_ms2, ms2_query_df, data_directory, timestr)"
   ]
  },
  {
   "cell_type": "code",
   "execution_count": null,
   "id": "e093dfa0-cb76-43eb-ad48-3503008863ee",
   "metadata": {},
   "outputs": [],
   "source": []
  }
 ],
 "metadata": {
  "kernelspec": {
   "display_name": "Python 3 (ipykernel)",
   "language": "python",
   "name": "python3"
  },
  "language_info": {
   "codemirror_mode": {
    "name": "ipython",
    "version": 3
   },
   "file_extension": ".py",
   "mimetype": "text/x-python",
   "name": "python",
   "nbconvert_exporter": "python",
   "pygments_lexer": "ipython3",
   "version": "3.9.13"
  }
 },
 "nbformat": 4,
 "nbformat_minor": 5
}
