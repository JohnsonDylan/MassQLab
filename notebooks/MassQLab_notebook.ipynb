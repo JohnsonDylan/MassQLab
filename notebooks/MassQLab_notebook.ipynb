{
 "cells": [
  {
   "cell_type": "code",
   "execution_count": null,
   "id": "2aa01c40-4ec4-4b7b-8fb1-322416a31774",
   "metadata": {},
   "outputs": [],
   "source": [
    "# Notebook for manual MassQLab processing\n",
    "\n",
    "import os\n",
    "import sys\n",
    "\n",
    "src_path = os.path.abspath(os.path.join(os.getcwd(), '..', 'src'))\n",
    "if src_path not in sys.path:\n",
    "    sys.path.append(src_path)\n",
    "\n",
    "# import importlib\n",
    "# import MassQLab_workflow\n",
    "# importlib.reload(MassQLab_workflow)\n",
    "\n",
    "from MassQLab_workflow import *"
   ]
  },
  {
   "cell_type": "code",
   "execution_count": null,
   "id": "e0d035ce-5f37-4480-8a72-35c33a597cda",
   "metadata": {},
   "outputs": [],
   "source": [
    "# Option 1: Manually define configuration\n",
    "\n",
    "data_directory=f\"data\"\n",
    "queryfile=f\"MassQL_Queries.csv\"\n",
    "\n",
    "output_directory=False # False to use data_directory\n",
    "\n",
    "cache_setting=True # True to create/use feather files. False to skip cached feather files and not create. \n",
    "\n",
    "# Most likely don't touch these\n",
    "convert_raw=False # True to convert raw to mzml. requires msconvert.exe\n",
    "msconvertexe=False # path to msconvert.exe\n",
    "analysis=True # not applicable in this notebook\n"
   ]
  },
  {
   "cell_type": "code",
   "execution_count": null,
   "id": "f2e2dabe-c6fc-49cc-8cae-9462c83bce43",
   "metadata": {},
   "outputs": [],
   "source": [
    "# Option 2: Load configuration data from massqlab_config.json (running this will override option 1 above)\n",
    "\n",
    "data_directory, queryfile, output_directory, convert_raw, msconvertexe, cache_setting, analysis = configure_MassQLab()"
   ]
  },
  {
   "cell_type": "code",
   "execution_count": null,
   "id": "54865924-6374-4acb-afa8-6e4f4af2f024",
   "metadata": {},
   "outputs": [],
   "source": [
    "# Load queries and apply to files in data_directory.\n",
    "# Creates ms1_raw_df.csv and ms2_raw_df.csv\n",
    "\n",
    "raw_df_ms1, raw_df_ms2, timestr, ms1_query_df, ms2_query_df, output_directory = core_workflow(data_directory, queryfile, convert_raw, msconvertexe, output_directory)"
   ]
  },
  {
   "cell_type": "code",
   "execution_count": null,
   "id": "103581c4-8c48-43f1-8ba5-371dfd3653aa",
   "metadata": {},
   "outputs": [],
   "source": [
    "# Processes ms1_raw_df. Creates ms1_analysis_df and visuals/tables.\n",
    "\n",
    "if not raw_df_ms1.empty:\n",
    "    process_ms1(raw_df_ms1, ms1_query_df, data_directory, timestr, output_directory)"
   ]
  },
  {
   "cell_type": "code",
   "execution_count": null,
   "id": "08ad1df4-fc9a-4648-9c36-a5747f367770",
   "metadata": {},
   "outputs": [],
   "source": [
    "# Processes ms2_raw_df. Creates ms2_analysis_df and visuals/tables.\n",
    "\n",
    "if not raw_df_ms2.empty:\n",
    "    process_ms2(raw_df_ms2, ms2_query_df, data_directory, timestr, output_directory)"
   ]
  },
  {
   "cell_type": "code",
   "execution_count": null,
   "id": "e093dfa0-cb76-43eb-ad48-3503008863ee",
   "metadata": {},
   "outputs": [],
   "source": []
  }
 ],
 "metadata": {
  "kernelspec": {
   "display_name": "Python 3 (ipykernel)",
   "language": "python",
   "name": "python3"
  },
  "language_info": {
   "codemirror_mode": {
    "name": "ipython",
    "version": 3
   },
   "file_extension": ".py",
   "mimetype": "text/x-python",
   "name": "python",
   "nbconvert_exporter": "python",
   "pygments_lexer": "ipython3",
   "version": "3.9.13"
  }
 },
 "nbformat": 4,
 "nbformat_minor": 5
}
