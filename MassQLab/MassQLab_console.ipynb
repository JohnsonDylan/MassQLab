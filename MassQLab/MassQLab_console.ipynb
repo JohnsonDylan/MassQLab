{
 "cells": [
  {
   "cell_type": "code",
   "execution_count": null,
   "id": "87a1477f-327f-49b1-b678-5a6b2d106962",
   "metadata": {},
   "outputs": [
    {
     "name": "stdout",
     "output_type": "stream",
     "text": [
      "\n",
      "Initialize MassQLab\n",
      "\n",
      "Loaded config file: massqlab_config.json\n",
      "\n",
      "data_directory: C:\\Users\\johnsondyj\\Documents\\Projects\\DylanJohnson\\SpectraSpectre_new\\data\\kirsten\n",
      "\n",
      "queryfile: C:\\Users\\johnsondyj\\Documents\\Projects\\DylanJohnson\\SpectraSpectre_new\\MassQL_Queries_PosIonCarnitines_new.csv\n",
      "\n"
     ]
    },
    {
     "name": "stdin",
     "output_type": "stream",
     "text": [
      "\n",
      "\n",
      "1) Enter 1 to run analysis.\n",
      "2) Enter 2 to reinitialize.\n",
      "Any other input closes.\n",
      "Input:  1\n"
     ]
    },
    {
     "name": "stdout",
     "output_type": "stream",
     "text": [
      "\n",
      "Created 33 MassQL Queries from C:\\Users\\johnsondyj\\Documents\\Projects\\DylanJohnson\\SpectraSpectre_new\\MassQL_Queries_PosIonCarnitines_new.csv\n",
      "Not converting raw files (if any)\n",
      "5 mzML files found in C:\\Users\\johnsondyj\\Documents\\Projects\\DylanJohnson\\SpectraSpectre_new\\data\\kirsten\n",
      "\n",
      "Applying 33 queries to 5 files\n",
      "Processing file 1: 23NIH013_p_ID_01.mzML\n",
      "Processing file 2: 23NIH013_p_ID_02.mzML\n",
      "Processing file 3: 23NIH013_p_ID_03.mzML\n",
      "Processing file 4: 23NIH013_p_ID_04.mzML\n",
      "Processing file 5: 23NIH013_p_blank_01.mzML\n",
      " 7 queries failed for file 5\n",
      "\n",
      "Queries Failed:\n",
      "trans-2-Tetradecenoyl-L-carnitine for 23NIH013_p_blank_01.mzML\n",
      "Valeryl-L-carnitine for 23NIH013_p_blank_01.mzML\n",
      "lauroyl carnitine-d3 for 23NIH013_p_blank_01.mzML\n",
      "oleoyl carnitine-d3 for 23NIH013_p_blank_01.mzML\n",
      "acyl-carnitinewithprecursorion429_85peakintheMS2 for 23NIH013_p_blank_01.mzML\n",
      "acyl-carnitinewithprecursorion429_productionneutrallosstrimethylaminecomponent for 23NIH013_p_blank_01.mzML\n",
      "acyl-carnitinewithprecursorion429_totalvalueofthescan for 23NIH013_p_blank_01.mzML\n",
      "\n",
      "Created raw_df_ms1 and exported as csv.\n",
      "Created raw_df_ms2 and exported as csv.\n",
      "Created ms1 analysis dataframe\n",
      "Created ms1_RT_analysis_df and exported as csv.\n",
      "Created ms1_summary_traces.\n",
      "Created ms1_summary_traces_inverse.\n",
      "Created ms1_analysis_df and exported as csv.\n",
      "Created ms1_summary_areas.\n",
      "Created ms1_summary_areas_inverse.\n",
      "Created ms1_reports.\n",
      "Created ms2 plots.\n",
      "Created ms2_analysis_df and exported as csv.\n",
      "Created ms2 cluster plot.\n",
      "Created ms2 cluster grouped.\n",
      "Created ms2_summary_plots.\n",
      "Created ms2_reports.\n",
      "--------------\n",
      "   Complete   \n",
      "--------------\n",
      "\n",
      "Initialize MassQLab\n",
      "\n",
      "Loaded config file: massqlab_config.json\n",
      "\n",
      "data_directory: C:\\Users\\johnsondyj\\Documents\\Projects\\DylanJohnson\\SpectraSpectre_new\\data\\kirsten\n",
      "\n",
      "queryfile: C:\\Users\\johnsondyj\\Documents\\Projects\\DylanJohnson\\SpectraSpectre_new\\MassQL_Queries_PosIonCarnitines_new.csv\n",
      "\n"
     ]
    }
   ],
   "source": [
    "from MassQLab_functions import *\n",
    "\n",
    "run()"
   ]
  }
 ],
 "metadata": {
  "kernelspec": {
   "display_name": "Python 3 (ipykernel)",
   "language": "python",
   "name": "python3"
  },
  "language_info": {
   "codemirror_mode": {
    "name": "ipython",
    "version": 3
   },
   "file_extension": ".py",
   "mimetype": "text/x-python",
   "name": "python",
   "nbconvert_exporter": "python",
   "pygments_lexer": "ipython3",
   "version": "3.9.13"
  }
 },
 "nbformat": 4,
 "nbformat_minor": 5
}
