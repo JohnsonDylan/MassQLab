{
 "cells": [
  {
   "cell_type": "code",
   "execution_count": 56,
   "id": "2aa01c40-4ec4-4b7b-8fb1-322416a31774",
   "metadata": {},
   "outputs": [],
   "source": [
    "import importlib\n",
    "import MassQLab_functions\n",
    "\n",
    "# Reload the module\n",
    "importlib.reload(MassQLab_functions)\n",
    "\n",
    "# Re-import everything\n",
    "from MassQLab_functions import *"
   ]
  },
  {
   "cell_type": "code",
   "execution_count": 23,
   "id": "e0d035ce-5f37-4480-8a72-35c33a597cda",
   "metadata": {},
   "outputs": [],
   "source": [
    "\n",
    "data_directory=f\"C:/Users/johnsondyj/Documents/Projects/DylanJohnson/data_for_MassQLab/mass_spec_data/sys_suitability_10202023\"\n",
    "queryfile=f\"C:/Users/johnsondyj/Documents/Projects/DylanJohnson/data_for_MassQLab/query_files/MassQL_Queries_ss_abund.json\"\n",
    "metadata_file=None\n",
    "metadata_filename_column=None\n",
    "metadata_group_columns=None\n",
    "kegg_path=None\n",
    "convert_raw=None\n",
    "msconvertexe=None\n",
    "cache_setting=None\n",
    "datasaver=None\n",
    "    "
   ]
  },
  {
   "cell_type": "code",
   "execution_count": 24,
   "id": "f2e2dabe-c6fc-49cc-8cae-9462c83bce43",
   "metadata": {},
   "outputs": [
    {
     "name": "stdout",
     "output_type": "stream",
     "text": [
      "\n",
      "Created 11 MassQL Queries from C:/Users/johnsondyj/Documents/Projects/DylanJohnson/data_for_MassQLab/query_files/MassQL_Queries_ss_abund.json"
     ]
    }
   ],
   "source": [
    "if data_directory and queryfile:\n",
    "    queries, ms1_query_df, ms2_query_df, query_groups, name_kegg_dict = create_queries(queryfile)\n",
    "else:\n",
    "    sys.stdout.write(f\"\\nNo data_directory and/or queryfile defined\\n\") "
   ]
  },
  {
   "cell_type": "code",
   "execution_count": 25,
   "id": "bc8e6de1-31b1-4d28-af5a-5d9859d01e50",
   "metadata": {},
   "outputs": [
    {
     "name": "stdout",
     "output_type": "stream",
     "text": [
      "\n",
      "Not converting raw files (if any)\n",
      "6 mzML files found in C:/Users/johnsondyj/Documents/Projects/DylanJohnson/data_for_MassQLab/mass_spec_data/sys_suitability_10202023\n",
      "\n",
      "Applying 11 queries to 6 files\n",
      "Processing file 1: SysTest_v7_01_new.mzML\n",
      "Processing file 2: SysTest_v7_02_new.mzML\n",
      "Processing file 3: SysTest_v7_03_new.mzML\n",
      "Processing file 4: SysTest_v7_04_new.mzML\n",
      "Processing file 5: SysTest_v7_05_new.mzML\n",
      "Processing file 6: system_test_v7_01.mzML\n",
      "Created raw_df_ms1 and exported as csv.\n",
      "Created raw_df_ms2 and exported as csv."
     ]
    }
   ],
   "source": [
    "if queries:\n",
    "    convert_raw_files(convert_raw, msconvertexe, data_directory)\n",
    "    file_count = mzml_file_count(data_directory)\n",
    "    try:\n",
    "        raw_df_ms1, raw_df_ms2, filename_groups, timestr = query_files(data_directory, queries, datasaver)\n",
    "    except Exception as e:\n",
    "        print(f\"Exception caught: {e}\")\n"
   ]
  },
  {
   "cell_type": "code",
   "execution_count": 28,
   "id": "73def9d3-013d-43b2-89db-10044ebcc7a1",
   "metadata": {},
   "outputs": [
    {
     "name": "stdout",
     "output_type": "stream",
     "text": [
      "\n",
      "Created ms1 analysis dataframe\n",
      "Created ms1_RT_analysis_df and exported as csv.\n",
      "Created ms1_summary_traces.\n",
      "Created ms1_summary_traces_inverse.\n",
      "Created ms1_analysis_df and exported as csv.\n",
      "Created ms1_summary_areas.\n",
      "Created ms1_summary_areas_system_test.\n",
      "Created ms1_summary_areas_inverse.\n",
      "Created ms1_reports."
     ]
    },
    {
     "ename": "IndexError",
     "evalue": "list index out of range",
     "output_type": "error",
     "traceback": [
      "\u001b[1;31m---------------------------------------------------------------------------\u001b[0m",
      "\u001b[1;31mIndexError\u001b[0m                                Traceback (most recent call last)",
      "Cell \u001b[1;32mIn[28], line 15\u001b[0m\n\u001b[0;32m     13\u001b[0m         summary_ms1_areas_inverse(ms1_analysis_df, data_directory, timestr)\n\u001b[0;32m     14\u001b[0m         reportlab_ms1(ms1_analysis_df, data_directory, timestr)\n\u001b[1;32m---> 15\u001b[0m         \u001b[43msystem_test_summary\u001b[49m\u001b[43m(\u001b[49m\u001b[43mdata_directory\u001b[49m\u001b[43m,\u001b[49m\u001b[43m \u001b[49m\u001b[43mtimestr\u001b[49m\u001b[43m)\u001b[49m\n\u001b[0;32m     16\u001b[0m \u001b[38;5;28;01melse\u001b[39;00m:\n\u001b[0;32m     17\u001b[0m     sys\u001b[38;5;241m.\u001b[39mstdout\u001b[38;5;241m.\u001b[39mwrite(\u001b[38;5;124mf\u001b[39m\u001b[38;5;124m\"\u001b[39m\u001b[38;5;130;01m\\n\u001b[39;00m\u001b[38;5;124mNo ms1_data\u001b[39m\u001b[38;5;130;01m\\n\u001b[39;00m\u001b[38;5;124m\"\u001b[39m) \n",
      "File \u001b[1;32m~\\Documents\\Projects\\DylanJohnson\\MassQLab\\MassQLab\\MassQLab_functions.py:1663\u001b[0m, in \u001b[0;36msystem_test_summary\u001b[1;34m(data_directory, timestr, summary_traces, summary_areas)\u001b[0m\n\u001b[0;32m   1660\u001b[0m                 \u001b[38;5;28mprint\u001b[39m(\u001b[38;5;124mf\u001b[39m\u001b[38;5;124m\"\u001b[39m\u001b[38;5;124mError processing file \u001b[39m\u001b[38;5;132;01m{\u001b[39;00mfilename\u001b[38;5;132;01m}\u001b[39;00m\u001b[38;5;124m in \u001b[39m\u001b[38;5;132;01m{\u001b[39;00msubdir2\u001b[38;5;132;01m}\u001b[39;00m\u001b[38;5;124m: \u001b[39m\u001b[38;5;132;01m{\u001b[39;00me\u001b[38;5;132;01m}\u001b[39;00m\u001b[38;5;124m\"\u001b[39m)\n\u001b[0;32m   1662\u001b[0m \u001b[38;5;66;03m# Build the PDF document\u001b[39;00m\n\u001b[1;32m-> 1663\u001b[0m \u001b[43mdoc\u001b[49m\u001b[38;5;241;43m.\u001b[39;49m\u001b[43mbuild\u001b[49m\u001b[43m(\u001b[49m\u001b[43melements\u001b[49m\u001b[43m)\u001b[49m\n\u001b[0;32m   1664\u001b[0m sys\u001b[38;5;241m.\u001b[39mstdout\u001b[38;5;241m.\u001b[39mwrite(\u001b[38;5;124mf\u001b[39m\u001b[38;5;124m\"\u001b[39m\u001b[38;5;124mPDF saved to \u001b[39m\u001b[38;5;132;01m{\u001b[39;00moutput_pdf_path\u001b[38;5;132;01m}\u001b[39;00m\u001b[38;5;124m\"\u001b[39m)\n\u001b[0;32m   1665\u001b[0m sys\u001b[38;5;241m.\u001b[39mstdout\u001b[38;5;241m.\u001b[39mflush()\n",
      "File \u001b[1;32m~\\Documents\\Projects\\DylanJohnson\\MassQLab\\MassQLab\\massqlab_env\\lib\\site-packages\\reportlab\\platypus\\doctemplate.py:1061\u001b[0m, in \u001b[0;36mBaseDocTemplate.build\u001b[1;34m(self, flowables, filename, canvasmaker)\u001b[0m\n\u001b[0;32m   1059\u001b[0m     \u001b[38;5;28mself\u001b[39m\u001b[38;5;241m.\u001b[39m_onProgress(\u001b[38;5;124m'\u001b[39m\u001b[38;5;124mSTARTED\u001b[39m\u001b[38;5;124m'\u001b[39m,\u001b[38;5;241m0\u001b[39m)\n\u001b[0;32m   1060\u001b[0m     \u001b[38;5;28mself\u001b[39m\u001b[38;5;241m.\u001b[39m_onProgress(\u001b[38;5;124m'\u001b[39m\u001b[38;5;124mSIZE_EST\u001b[39m\u001b[38;5;124m'\u001b[39m, \u001b[38;5;28mlen\u001b[39m(flowables))\n\u001b[1;32m-> 1061\u001b[0m \u001b[38;5;28;43mself\u001b[39;49m\u001b[38;5;241;43m.\u001b[39;49m\u001b[43m_startBuild\u001b[49m\u001b[43m(\u001b[49m\u001b[43mfilename\u001b[49m\u001b[43m,\u001b[49m\u001b[43mcanvasmaker\u001b[49m\u001b[43m)\u001b[49m\n\u001b[0;32m   1063\u001b[0m \u001b[38;5;66;03m#pagecatcher can drag in information from embedded PDFs and we want ours\u001b[39;00m\n\u001b[0;32m   1064\u001b[0m \u001b[38;5;66;03m#to take priority, so cache and reapply our own info dictionary after the build.\u001b[39;00m\n\u001b[0;32m   1065\u001b[0m canv \u001b[38;5;241m=\u001b[39m \u001b[38;5;28mself\u001b[39m\u001b[38;5;241m.\u001b[39mcanv\n",
      "File \u001b[1;32m~\\Documents\\Projects\\DylanJohnson\\MassQLab\\MassQLab\\massqlab_env\\lib\\site-packages\\reportlab\\platypus\\doctemplate.py:1032\u001b[0m, in \u001b[0;36mBaseDocTemplate._startBuild\u001b[1;34m(self, filename, canvasmaker)\u001b[0m\n\u001b[0;32m   1030\u001b[0m \u001b[38;5;28mself\u001b[39m\u001b[38;5;241m.\u001b[39m_calc()\n\u001b[0;32m   1031\u001b[0m \u001b[38;5;28mself\u001b[39m\u001b[38;5;241m.\u001b[39mcanv \u001b[38;5;241m=\u001b[39m \u001b[38;5;28mself\u001b[39m\u001b[38;5;241m.\u001b[39m_makeCanvas(filename\u001b[38;5;241m=\u001b[39mfilename,canvasmaker\u001b[38;5;241m=\u001b[39mcanvasmaker)\n\u001b[1;32m-> 1032\u001b[0m \u001b[38;5;28;43mself\u001b[39;49m\u001b[38;5;241;43m.\u001b[39;49m\u001b[43mhandle_documentBegin\u001b[49m\u001b[43m(\u001b[49m\u001b[43m)\u001b[49m\n",
      "File \u001b[1;32m~\\Documents\\Projects\\DylanJohnson\\MassQLab\\MassQLab\\massqlab_env\\lib\\site-packages\\reportlab\\platypus\\doctemplate.py:609\u001b[0m, in \u001b[0;36mBaseDocTemplate.handle_documentBegin\u001b[1;34m(self)\u001b[0m\n\u001b[0;32m    607\u001b[0m     \u001b[38;5;28mself\u001b[39m\u001b[38;5;241m.\u001b[39m_setPageTemplate()\n\u001b[0;32m    608\u001b[0m \u001b[38;5;28;01melse\u001b[39;00m:\n\u001b[1;32m--> 609\u001b[0m     \u001b[38;5;28mself\u001b[39m\u001b[38;5;241m.\u001b[39mpageTemplate \u001b[38;5;241m=\u001b[39m \u001b[38;5;28;43mself\u001b[39;49m\u001b[38;5;241;43m.\u001b[39;49m\u001b[43mpageTemplates\u001b[49m\u001b[43m[\u001b[49m\u001b[38;5;28;43mself\u001b[39;49m\u001b[38;5;241;43m.\u001b[39;49m\u001b[43m_firstPageTemplateIndex\u001b[49m\u001b[43m]\u001b[49m\n\u001b[0;32m    610\u001b[0m \u001b[38;5;28mself\u001b[39m\u001b[38;5;241m.\u001b[39mpage \u001b[38;5;241m=\u001b[39m \u001b[38;5;241m0\u001b[39m\n\u001b[0;32m    611\u001b[0m \u001b[38;5;28mself\u001b[39m\u001b[38;5;241m.\u001b[39mbeforeDocument()\n",
      "\u001b[1;31mIndexError\u001b[0m: list index out of range"
     ]
    }
   ],
   "source": [
    "if not raw_df_ms1.empty:\n",
    "    ms1_analysis_df = analysis_ms1(raw_df_ms1, data_directory, timestr)\n",
    "    ms1_analysis_df = ms1_query_analysis_merge(ms1_analysis_df, ms1_query_df)\n",
    "    ms1_analysis_df = ms1_validity_and_QC(ms1_analysis_df)\n",
    "    ms1_analysis_df = impute_ms1(ms1_analysis_df)\n",
    "    rt_analysis_ms1(ms1_analysis_df, data_directory, timestr)\n",
    "    summary_ms1_traces(raw_df_ms1, data_directory, timestr)\n",
    "    summary_ms1_traces_inverse(raw_df_ms1, data_directory, timestr)\n",
    "    if not ms1_analysis_df.empty:\n",
    "        export_ms1_analysis_df(ms1_analysis_df, data_directory, timestr)\n",
    "        summary_ms1_areas(ms1_analysis_df, data_directory, timestr)\n",
    "        summary_ms1_areas_system_test(ms1_analysis_df, data_directory, timestr)\n",
    "        summary_ms1_areas_inverse(ms1_analysis_df, data_directory, timestr)\n",
    "        reportlab_ms1(ms1_analysis_df, data_directory, timestr)\n",
    "        system_test_summary(data_directory, timestr)\n",
    "else:\n",
    "    sys.stdout.write(f\"\\nNo ms1_data\\n\") "
   ]
  },
  {
   "cell_type": "code",
   "execution_count": 13,
   "id": "70270670-8943-4553-9d90-d625862eb32c",
   "metadata": {},
   "outputs": [
    {
     "name": "stdout",
     "output_type": "stream",
     "text": [
      "\n",
      "Created ms2 plots.\n",
      "Created ms2_analysis_df and exported as csv.\n",
      "Created ms2 cluster plot.\n",
      "Created ms2 cluster plot alt.\n",
      "Created ms2 cluster grouped.\n",
      "Created ms2_summary_plots.\n",
      "Created ms2_reports."
     ]
    }
   ],
   "source": [
    "\n",
    "if not raw_df_ms2.empty:\n",
    "    plot_ms2(raw_df_ms2, data_directory, timestr)\n",
    "    ms2_analysis_df = analysis_ms2(raw_df_ms2, ms2_query_df)\n",
    "    ms2_analysis_df = impute_ms2(ms2_analysis_df)\n",
    "    export_ms2_analysis_df(ms2_analysis_df, data_directory, timestr)\n",
    "    cluster_plot_ms2(ms2_analysis_df, data_directory, timestr)      \n",
    "    cluster_plot_ms2_alt(ms2_analysis_df, data_directory, timestr)\n",
    "    cluster_plot_ms2_group(ms2_analysis_df, data_directory, timestr)\n",
    "    summary_ms2(ms2_analysis_df, data_directory, timestr)\n",
    "    save_ms2_scans(ms2_analysis_df, data_directory, timestr)\n",
    "    reportlab_ms2(ms2_analysis_df, data_directory, timestr)\n",
    "else:\n",
    "    sys.stdout.write(f\"\\nNo ms2_data\\n\") "
   ]
  },
  {
   "cell_type": "code",
   "execution_count": 57,
   "id": "8531e872-5acd-4032-90ff-931374574f21",
   "metadata": {},
   "outputs": [
    {
     "name": "stdout",
     "output_type": "stream",
     "text": [
      "Consolidated image saved to C:/Users/johnsondyj/Documents/Projects/DylanJohnson/data_for_MassQLab/mass_spec_data/sys_suitability_10202023\\MassQLab_Output\\2024_12_06_1543\\aligned_grid.png"
     ]
    }
   ],
   "source": [
    "system_test_summary(data_directory, timestr)"
   ]
  },
  {
   "cell_type": "code",
   "execution_count": null,
   "id": "54865924-6374-4acb-afa8-6e4f4af2f024",
   "metadata": {},
   "outputs": [],
   "source": []
  }
 ],
 "metadata": {
  "kernelspec": {
   "display_name": "Python 3 (ipykernel)",
   "language": "python",
   "name": "python3"
  },
  "language_info": {
   "codemirror_mode": {
    "name": "ipython",
    "version": 3
   },
   "file_extension": ".py",
   "mimetype": "text/x-python",
   "name": "python",
   "nbconvert_exporter": "python",
   "pygments_lexer": "ipython3",
   "version": "3.9.13"
  }
 },
 "nbformat": 4,
 "nbformat_minor": 5
}
